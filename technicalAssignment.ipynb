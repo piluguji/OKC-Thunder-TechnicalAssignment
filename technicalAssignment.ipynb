{
 "cells": [
  {
   "cell_type": "markdown",
   "metadata": {},
   "source": [
    "Importing Data"
   ]
  },
  {
   "cell_type": "code",
   "execution_count": 2,
   "metadata": {},
   "outputs": [
    {
     "name": "stdout",
     "output_type": "stream",
     "text": [
      "Index(['team', 'x', 'y', 'fgmade'], dtype='object')\n",
      "560\n"
     ]
    }
   ],
   "source": [
    "import pandas as pd\n",
    "data = pd.read_csv(\"shots_data.csv\")\n",
    "\n",
    "print(data.columns)\n",
    "print(len(data.index)) #560 total shots"
   ]
  },
  {
   "cell_type": "markdown",
   "metadata": {},
   "source": [
    "Seperating Data by Teams"
   ]
  },
  {
   "cell_type": "code",
   "execution_count": 9,
   "metadata": {},
   "outputs": [],
   "source": [
    "teamA = data[data['team'] == \"Team A\"]\n",
    "teamB = data[data['team'] == \"Team B\"]\n",
    "\n",
    "teamATot = len(teamA.index) #280 shots for A\n",
    "teamBTot = len(teamB.index) #280 shots for B"
   ]
  },
  {
   "cell_type": "markdown",
   "metadata": {},
   "source": [
    "Team A, Shot Seperation"
   ]
  },
  {
   "cell_type": "code",
   "execution_count": 31,
   "metadata": {},
   "outputs": [],
   "source": [
    "def getDistance(x, y):\n",
    "    return (x**2 + y**2)**0.5\n",
    "\n",
    "NC3_A = teamA[\n",
    "    (getDistance(teamA['x'], teamA['y']) > 23.75) & (teamA['y'] > 7.8) \n",
    "]\n",
    "numNC3_A = len(NC3_A.index) #90 Not Corner Threes\n",
    "\n",
    "C3_A = teamA[\n",
    "    (abs(teamA['x']) > 22) & (teamA['y'] <= 7.8) \n",
    "]\n",
    "numC3_A = len(C3_A.index)  #20 Corner Threes  \n",
    "\n",
    "twoP_A = teamA[\n",
    "    ((getDistance(teamA['x'], teamA['y']) <= 23.75) & (teamA['y'] > 7.8))\n",
    "    | ((abs(teamA['x']) < 22) & (teamA['y'] <= 7.8))\n",
    "]\n",
    "num2Pt_A = len(twoP_A.index) #170 2 Point Attempts\n"
   ]
  },
  {
   "cell_type": "markdown",
   "metadata": {},
   "source": [
    "Team A Stats: Percent Shots of Whole"
   ]
  },
  {
   "cell_type": "code",
   "execution_count": 32,
   "metadata": {},
   "outputs": [
    {
     "name": "stdout",
     "output_type": "stream",
     "text": [
      "0.607\n",
      "0.321\n",
      "0.071\n"
     ]
    }
   ],
   "source": [
    "print(round(num2Pt_A/teamATot, 3))\n",
    "print(round(numNC3_A/teamATot, 3))\n",
    "print(round(numC3_A/teamATot, 3))"
   ]
  },
  {
   "cell_type": "markdown",
   "metadata": {},
   "source": [
    "Team A Stats: EFG"
   ]
  },
  {
   "cell_type": "code",
   "execution_count": 36,
   "metadata": {},
   "outputs": [
    {
     "name": "stdout",
     "output_type": "stream",
     "text": [
      "0.4\n",
      "0.483\n",
      "0.6\n"
     ]
    }
   ],
   "source": [
    "def efg(FGM, threePM, FGA):\n",
    "    return round((FGM + (0.5 * threePM))/FGA, 3)\n",
    "\n",
    "twoMade_A = twoP_A.sum(axis = 0, skipna = True).fgmade\n",
    "print(efg(twoMade_A, 0, num2Pt_A))\n",
    "\n",
    "nc3Made_A = NC3_A.sum(axis = 0, skipna = True).fgmade\n",
    "print(efg(nc3Made_A, nc3Made_A, numNC3_A)) #number of FG made in this zone is the same as the num of 3P made\n",
    "\n",
    "c3Made_A = C3_A.sum(axis = 0, skipna = True).fgmade\n",
    "print(efg(c3Made_A, c3Made_A, numC3_A)) #number of FG made in this zone is the same as the num of 3P made\n"
   ]
  },
  {
   "cell_type": "markdown",
   "metadata": {},
   "source": [
    "Team B, Shot Seperation"
   ]
  },
  {
   "cell_type": "code",
   "execution_count": 37,
   "metadata": {},
   "outputs": [],
   "source": [
    "NC3_B = teamB[\n",
    "    (getDistance(teamB['x'], teamB['y']) > 23.75) & (teamB['y'] > 7.8) \n",
    "]\n",
    "numNC3_B = len(NC3_B.index) #96 Not Corner Threes\n",
    "\n",
    "C3_B = teamB[\n",
    "    (abs(teamB['x']) > 22) & (teamB['y'] <= 7.8) \n",
    "]\n",
    "numC3_B = len(C3_B.index)  #21 Corner Threes  \n",
    "\n",
    "twoP_B = teamB[\n",
    "    ((getDistance(teamB['x'], teamB['y']) <= 23.75) & (teamB['y'] > 7.8))\n",
    "    | ((abs(teamB['x']) < 22) & (teamB['y'] <= 7.8))\n",
    "]\n",
    "num2Pt_B = len(twoP_B.index) #163 2 Point Attempts"
   ]
  },
  {
   "cell_type": "markdown",
   "metadata": {},
   "source": [
    "Team B Stats: Percent Shots of Whole"
   ]
  },
  {
   "cell_type": "code",
   "execution_count": 43,
   "metadata": {},
   "outputs": [
    {
     "name": "stdout",
     "output_type": "stream",
     "text": [
      "0.582\n",
      "0.343\n",
      "0.075\n"
     ]
    }
   ],
   "source": [
    "print(round(num2Pt_B/teamBTot, 3))\n",
    "print(round(numNC3_B/teamBTot, 3))\n",
    "print(round(numC3_B/teamBTot, 3))"
   ]
  },
  {
   "cell_type": "markdown",
   "metadata": {},
   "source": [
    "Team B Stats: EFG"
   ]
  },
  {
   "cell_type": "code",
   "execution_count": 44,
   "metadata": {},
   "outputs": [
    {
     "name": "stdout",
     "output_type": "stream",
     "text": [
      "0.46\n",
      "0.547\n",
      "0.357\n"
     ]
    }
   ],
   "source": [
    "twoMade_B = twoP_B.sum(axis = 0, skipna = True).fgmade\n",
    "print(efg(twoMade_B, 0, num2Pt_B))\n",
    "\n",
    "nc3Made_B = NC3_B.sum(axis = 0, skipna = True).fgmade\n",
    "print(efg(nc3Made_B, nc3Made_B, numNC3_B)) #number of FG made in this zone is the same as the num of 3P made\n",
    "\n",
    "c3Made_B = C3_B.sum(axis = 0, skipna = True).fgmade\n",
    "print(efg(c3Made_B, c3Made_B, numC3_B)) #number of FG made in this zone is the same as the num of 3P made\n"
   ]
  }
 ],
 "metadata": {
  "interpreter": {
   "hash": "33cd277d572d6d49982fc2620159b263be6b049a3d966793c9617dbd95a25049"
  },
  "kernelspec": {
   "display_name": "Python 3.9.2 64-bit",
   "language": "python",
   "name": "python3"
  },
  "language_info": {
   "codemirror_mode": {
    "name": "ipython",
    "version": 3
   },
   "file_extension": ".py",
   "mimetype": "text/x-python",
   "name": "python",
   "nbconvert_exporter": "python",
   "pygments_lexer": "ipython3",
   "version": "3.9.2"
  },
  "orig_nbformat": 4
 },
 "nbformat": 4,
 "nbformat_minor": 2
}
